{
 "cells": [
  {
   "cell_type": "code",
   "execution_count": 5,
   "metadata": {},
   "outputs": [
    {
     "name": "stdout",
     "output_type": "stream",
     "text": [
      "Requirement already satisfied: python-dotenv in ./venv/lib/python3.10/site-packages (0.21.0)\n",
      "\u001b[33mWARNING: There was an error checking the latest version of pip.\u001b[0m\u001b[33m\n",
      "\u001b[0mNote: you may need to restart the kernel to use updated packages.\n"
     ]
    }
   ],
   "source": [
    "import requests\n",
    "import json\n",
    "import os\n",
    "%pip install python-dotenv\n"
   ]
  },
  {
   "cell_type": "code",
   "execution_count": null,
   "metadata": {},
   "outputs": [],
   "source": [
    "\n",
    "from dotenv import load_dotenv\n",
    "\n",
    "# Load environment variables from .env file\n",
    "load_dotenv()\n",
    "\n",
    "API_KEY = os.getenv(\"GEMINI_API_KEY\")\n",
    "if not API_KEY:\n",
    "    print(\"API key not found! Make sure it's set correctly.\")"
   ]
  },
  {
   "cell_type": "code",
   "execution_count": 7,
   "metadata": {},
   "outputs": [],
   "source": [
    "API_URL = f\"https://generativelanguage.googleapis.com/v1beta/models/gemini-1.5-flash:generateContent?key={API_KEY}\"\n",
    "\n",
    "HEADERS = {\n",
    "    \"Content-Type\": \"application/json\"\n",
    "}\n"
   ]
  },
  {
   "cell_type": "code",
   "execution_count": 8,
   "metadata": {},
   "outputs": [
    {
     "name": "stdout",
     "output_type": "stream",
     "text": [
      "API call successful!\n",
      "{\n",
      "  \"candidates\": [\n",
      "    {\n",
      "      \"content\": {\n",
      "        \"parts\": [\n",
      "          {\n",
      "            \"text\": \"Imagine a light switch.  It can be either ON or OFF.  That's how regular computers work: bits are either 0 or 1.\\n\\nQuantum computers use something called **qubits**.  Think of a dimmer switch instead of a light switch. A qubit can be 0, 1, or *both at the same time* \\u2013 a concept called **superposition**.  It's like the light is both on and off simultaneously until you actually look at it.\\n\\nThey also use **entanglement**.  Imagine two of these dimmer switches magically linked. If you change one, the other instantly changes too, no matter how far apart they are.  This allows quantum computers to explore many possibilities at once.\\n\\nBecause of superposition and entanglement, quantum computers can potentially solve certain problems *much* faster than even the most powerful regular computers.  For example, they could be used to:\\n\\n* **Develop new medicines and materials:** By simulating molecules much more efficiently.\\n* **Improve artificial intelligence:** By processing vast amounts of data much faster.\\n* **Break current encryption methods:**  This is a potential downside, but also a driver of research into new, quantum-resistant encryption.\\n\\nIt's important to note that quantum computing is still in its early stages.  Building and maintaining these machines is incredibly difficult, and they aren't going to replace your laptop anytime soon.  But their potential to revolutionize certain fields is huge.\\n\"\n",
      "          }\n",
      "        ],\n",
      "        \"role\": \"model\"\n",
      "      },\n",
      "      \"finishReason\": \"STOP\",\n",
      "      \"avgLogprobs\": -0.20599245307437553\n",
      "    }\n",
      "  ],\n",
      "  \"usageMetadata\": {\n",
      "    \"promptTokenCount\": 10,\n",
      "    \"candidatesTokenCount\": 299,\n",
      "    \"totalTokenCount\": 309,\n",
      "    \"promptTokensDetails\": [\n",
      "      {\n",
      "        \"modality\": \"TEXT\",\n",
      "        \"tokenCount\": 10\n",
      "      }\n",
      "    ],\n",
      "    \"candidatesTokensDetails\": [\n",
      "      {\n",
      "        \"modality\": \"TEXT\",\n",
      "        \"tokenCount\": 299\n",
      "      }\n",
      "    ]\n",
      "  },\n",
      "  \"modelVersion\": \"gemini-1.5-flash\"\n",
      "}\n"
     ]
    }
   ],
   "source": [
    "# Define the request payload\n",
    "payload = {\n",
    "    \"contents\": [\n",
    "        {\"parts\": [{\"text\": \"Explain the concept of quantum computing in simple terms.\"}]}\n",
    "    ]\n",
    "}\n",
    "\n",
    "# Make the request\n",
    "response = requests.post(API_URL, headers=HEADERS, json=payload)\n",
    "\n",
    "# Check the response\n",
    "if response.status_code == 200:\n",
    "    result = response.json()\n",
    "    print(\"API call successful!\")\n",
    "    print(json.dumps(result, indent=2))  # Pretty-print JSON response\n",
    "else:\n",
    "    print(\"API call failed! Error:\", response.status_code, response.text)\n"
   ]
  },
  {
   "cell_type": "code",
   "execution_count": 9,
   "metadata": {},
   "outputs": [
    {
     "name": "stdout",
     "output_type": "stream",
     "text": [
      "\n",
      "Generated Response:\n",
      "\n",
      "Imagine a light switch.  It can be either ON or OFF.  That's how regular computers work: bits are either 0 or 1.\n",
      "\n",
      "Quantum computers use something called **qubits**.  Think of a dimmer switch instead of a light switch. A qubit can be 0, 1, or *both at the same time* – a concept called **superposition**.  It's like the light is both on and off simultaneously until you actually look at it.\n",
      "\n",
      "They also use **entanglement**.  Imagine two of these dimmer switches magically linked. If you change one, the other instantly changes too, no matter how far apart they are.  This allows quantum computers to explore many possibilities at once.\n",
      "\n",
      "Because of superposition and entanglement, quantum computers can potentially solve certain problems *much* faster than even the most powerful regular computers.  For example, they could be used to:\n",
      "\n",
      "* **Develop new medicines and materials:** By simulating molecules much more efficiently.\n",
      "* **Improve artificial intelligence:** By processing vast amounts of data much faster.\n",
      "* **Break current encryption methods:**  This is a potential downside, but also a driver of research into new, quantum-resistant encryption.\n",
      "\n",
      "It's important to note that quantum computing is still in its early stages.  Building and maintaining these machines is incredibly difficult, and they aren't going to replace your laptop anytime soon.  But their potential to revolutionize certain fields is huge.\n",
      "\n"
     ]
    }
   ],
   "source": [
    "if \"candidates\" in result:\n",
    "    generated_text = result[\"candidates\"][0][\"content\"][\"parts\"][0][\"text\"]\n",
    "    print(\"\\nGenerated Response:\\n\")\n",
    "    print(generated_text)\n",
    "else:\n",
    "    print(\"No response generated. Check API output.\")\n"
   ]
  },
  {
   "cell_type": "code",
   "execution_count": null,
   "metadata": {},
   "outputs": [],
   "source": []
  }
 ],
 "metadata": {
  "kernelspec": {
   "display_name": "venv",
   "language": "python",
   "name": "python3"
  },
  "language_info": {
   "codemirror_mode": {
    "name": "ipython",
    "version": 3
   },
   "file_extension": ".py",
   "mimetype": "text/x-python",
   "name": "python",
   "nbconvert_exporter": "python",
   "pygments_lexer": "ipython3",
   "version": "3.10.8"
  }
 },
 "nbformat": 4,
 "nbformat_minor": 2
}
